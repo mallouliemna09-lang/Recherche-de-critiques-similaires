{
 "cells": [
  {
   "cell_type": "code",
   "execution_count": 1,
   "id": "94c7032b",
   "metadata": {},
   "outputs": [
    {
     "name": "stderr",
     "output_type": "stream",
     "text": [
      "c:\\Users\\mallo\\OneDrive\\Bureau\\Test_SensCritique\\.venv\\Lib\\site-packages\\tqdm\\auto.py:21: TqdmWarning: IProgress not found. Please update jupyter and ipywidgets. See https://ipywidgets.readthedocs.io/en/stable/user_install.html\n",
      "  from .autonotebook import tqdm as notebook_tqdm\n"
     ]
    }
   ],
   "source": [
    "import pandas as pd \n",
    "import os\n",
    "import numpy as np \n",
    "from sentence_transformers import SentenceTransformer\n",
    "import faiss\n",
    "from transformers import AutoTokenizer\n",
    "from bs4 import BeautifulSoup"
   ]
  },
  {
   "cell_type": "code",
   "execution_count": 3,
   "id": "74c68b98",
   "metadata": {},
   "outputs": [
    {
     "name": "stdout",
     "output_type": "stream",
     "text": [
      "Index(['id', 'URL', 'rating', 'review_date_creation',\n",
      "       'review_date_last_update', 'review_hits', 'review_content',\n",
      "       'review_title', 'gen_review_like_count', 'username', 'user_id'],\n",
      "      dtype='object')\n"
     ]
    }
   ],
   "source": [
    "df = pd.read_csv('interstellar_critique.csv')\n",
    "\n",
    "print(df.columns)"
   ]
  },
  {
   "cell_type": "code",
   "execution_count": 8,
   "id": "c302b6e0",
   "metadata": {},
   "outputs": [
    {
     "name": "stdout",
     "output_type": "stream",
     "text": [
      "         id                                                URL  rating  \\\n",
      "0  25246858  https://senscritique.com/film/xxx/critique/252...      10   \n",
      "1  40035436  https://senscritique.com/film/xxx/critique/400...       4   \n",
      "2  39231131  https://senscritique.com/film/xxx/critique/392...      10   \n",
      "\n",
      "  review_date_creation review_date_last_update  review_hits  \\\n",
      "0       06/11/14 12:29          06/11/14 12:29        22676   \n",
      "1       15/11/14 13:13          15/11/14 13:13        20186   \n",
      "2       28/02/15 10:36          28/02/15 10:36        19215   \n",
      "\n",
      "                                      review_content  \\\n",
      "0  Aïe Aïe Aïe, nous y voilà, Interstellar, le fi...   \n",
      "1  <p>Chers lecteurs, chères lectrices,</p>\\n\\n<p...   \n",
      "2  <p>Malgré ce que j'entends dire ou lis sur le ...   \n",
      "\n",
      "                                        review_title  gen_review_like_count  \\\n",
      "0          All you need is love, love, love, love...                    513   \n",
      "1  10 « bonnes » raisons relatives de ne pas aime...                    278   \n",
      "2                  Tous les chemins mènent à l'Homme                    347   \n",
      "\n",
      "     username  user_id  \n",
      "0  Kobayashhi    44916  \n",
      "1     Veather   181882  \n",
      "2        blig   133793  \n"
     ]
    }
   ],
   "source": [
    "print(df.head(3))"
   ]
  },
  {
   "cell_type": "code",
   "execution_count": 5,
   "id": "65bebd80",
   "metadata": {},
   "outputs": [
    {
     "name": "stdout",
     "output_type": "stream",
     "text": [
      "10 « bonnes » raisons relatives de ne pas aimer Interstellar. . <p>Chers lecteurs, chères lectrices,</p>\n",
      "\n",
      "<p>Avant d'entamer cette liste aussi disgracieuse que désobligeante, je tiens à préciser que je n'ai rien contre Nolan, au contraire. \n",
      "Avant de m'envoyer des menaces de mort, kidnapper un membre de ma famille ou pire encore, merci de garder votre calme et de vous contenter de cliquer sur NON à la question finale et fatidique \"Et vous, avez-vous apprécié la critique ?\" Ça vous fera du bien, votre honneur sera ainsi sauvé, et il y a de fortes chances que cela me pousse au suicide. Donc tout le monde y trouve son compte. \n",
      "Oui parce que ce film m'a donné envie de sauter d'un pont.</p>\n",
      "\n",
      "<p>Sur ce, bonne lecture!</p>\n",
      "\n",
      "<ol>\n",
      "<li><p>Je vais sûrement perdre quelques abonnés à cause de cette critique.</p></li>\n",
      "<li><p>Nolan a très clairement exprimé qu'il voulait rendre son film réaliste. Dans ce but, il a collaboré avec des scientifiques. C'est très bien, et ça part sûrement d'une bonne intention, mais moi, petit spectateur, je dis non. Il ne suffit pas de prendre une base scientifique pour que ce soit crédible.\n",
      "Quand je vois des scientifiques de la NASA parler entre eux comme des débiles, non seulement ça m'agace mais surtout ça me sort du film direct. \n",
      "Tout est fait pour que le public comprenne, alors ils se mettent à expliquer, dans tous les détails, tout le speech scientifique nécessaire à la compréhension de l'histoire. Du coup on a droit aux plus gros cerveaux du monde en train de batifoler en mode Science et Vie Junior. ZÉRO CRÉDIBILITÉ. </p></li>\n",
      "</ol>\n",
      "\n",
      "<p>SPOILER </p>\n",
      "\n",
      "<ol start=\"3\">\n",
      "<li><p>Dans toutes les histoires SF traitant du voyage dans le temps, les même paradoxes reviennent toujours. Interstellar ne fait pas exception, et bien sûr ne mentionne même pas lesdites paradoxes. \n",
      "Alors oui, d'accord&nbsp;: le temps c'est relatif, tout ça, on ne sait pas ce qu'il y a dans un trou noir, blablabla. Mais j'ai le droit d'être de mauvais foi. De plus, la paradoxe du déclenchement initial persiste&nbsp;!</p></li>\n",
      "<li><p>Le plan B consiste à relancer l'humanité avec les ovules fécondées qu'ils emportent. OK, pourquoi pas. Mais le film n'explique pas QUI est censé PORTER les ovules. Parce que bon, Anne Hathaway est bien gentille, mais étant la seule femme de l'expédition, est-elle sensée porter assez d'ovules pour peupler la nouvelle planète? Je n'crois pas, non...</p></li>\n",
      "<li><p>Quand le type du fond (dont on avait rien à cirer) se fait happer par la vague, ça donne la sensation de mort imminente, de danger. Alors pourquoi, quand ils quittent la planète, y a t-il ce plan de son cadavre flottant&nbsp;? Ça casse tout l'aspect dramatique de la situation. On dirait que c'est pour nous montrer qu'il est BIEN mort, au cas où on était pas sûrs, tu vois. \n",
      "Ce détail qui n'a sûrement pas choqué grand monde représente pour moi tout ce qui ne va pas dans ce film&nbsp;: Nolan m'a fait boire la tasse. \n",
      "Dédicace à Denver_le_ninja.</p></li>\n",
      "<li><p>Le Happy End hollywoodien m'a agacé, d'autant plus que c'est un faux Happy End&nbsp;: La terre est foutue, on ne sait même pas si la planète qu'ils vont rejoindre est habitable et durable, mais tout le monde il est content. Non seulement ça place l'humain sur un piédestal, mais c'est carrément foireux.</p></li>\n",
      "</ol>\n",
      "\n",
      "<p>6 bis. Et dans ce fameux vaisseau de survie précaire de l'espèce humaine, on peut voir des champs cultivés éclatants de vitalité. Pourtant sur terre, il y avait le Mildiou, et le Maïs et ses collègues étaient gravement malades. Pourquoi n'ont-ils plus ces problèmes une fois les champs installés dans le vaisseau? C'est pourtant la même terre et les mêmes plantes, non? Pas très net.</p>\n",
      "\n",
      "<p>FIN SPOILER</p>\n",
      "\n",
      "<ol start=\"7\">\n",
      "<li>Nolan a voulu briser l’intellectualisation froide qui imprègne souvent les films de SF. L'approche humaine qu'il a donné à son film est honorable et lui vaut bien des éloges&nbsp;; mais à titre personnel ça ne passe pas. Les disputes familiales sur terre m'ont parues interminables. Peut-être qu' Interstellar ne m'a pas donné ce à quoi je m'attendais. Je m'étais préparé à une épopée spatiale, j'ai eu droit à une histoire de famille. Ça aurait pu me surprendre en bien... Si je n'avais pas trouvé ça aussi grossièrement amené.</li>\n",
      "</ol>\n",
      "\n",
      "<p>À mon sens, le fait que le film soit construit pour imager l'humain nuit à son aspect scientifique/SF. </p>\n",
      "\n",
      "<ol start=\"8\">\n",
      "<li>Incohérence: le vaisseau utilise des fusées pour quitter la terre, mais n'en a plus besoin pour quitter les autres planètes, qui en plus n'ont pas la même gravité. Si ils ont cette technologie, pas besoin de fusées depuis le début. \n",
      "D’ordinaire, je n'accorderai pas d'importance à de tels détails, mais pour un film qui prétend au réalisme, ça ne passe pas.</li>\n",
      "</ol>\n",
      "\n",
      "<p>Réponse en commentaire de GagReathle:</p>\n",
      "\n",
      "<p>Pour \"l'incohérence\" de la fusée, ce n'en est pas une, et c'est simple en fait. \n",
      "Il est dit dans le film que tout le matériel spatial a été détruit, réutilisé, ou en tout cas ne fonctionne pas. Les trucs spatiaux... sont dans l'espace, en témoigne le vaisseau-mère dans lequel se trouve les vaisseaux spatiaux utilisés plus tard dans le film !\n",
      "Michael Caine explique qu'ils ont du reconstruire une fusée car il n'y en avait plus. La fusée sert à rejoindre le vaisseau mère, et ainsi l'ancienne technologie spatiale humain.</p>\n",
      "\n",
      "<p>Autrement dit, je ferais mieux de réfléchir un peu plus avant de déceler de fausses incohérences pour faire mon malin.</p>\n",
      "\n",
      "<ol start=\"9\">\n",
      "<li><p>La musique de Hans Zimmer est une excellente BO, qui selon moi colle bien au film, comme c'est toujours le cas avec le duo Nolan/Zimmer. Mais je ne comprend pas ce dosage écrasant: elle repasse en boucle, dans le but j'imagine de donner de la puissance aux scènes; sauf que ça fonctionne à l'envers pour moi. C'est l'overdose, ça m'assomme. Surtout venant d'un film de cet acabit, qui -et c'est un avis très personnel- devrait tirer parti du silence spatial pour créer l’angoisse, plutôt que de rabâcher la BO pour matraquer le spectateur de «&nbsp;sensation épique&nbsp;». </p></li>\n",
      "<li><p>Le parti pris de l'esthétique SF Old School façon Kubrick, j'adhère, mais je n'ai pas trouvé ça toujours convaincant, notamment pour l'aspect carton-pâte des vaisseaux. C'est beau, je l'admets, mais parfois un peu bancal à mon goût. J'avoue quand même que ça fait du bien à l'époque du tout CGI&nbsp;; et précise que je l'ai vu en numérique alors que, selon -Icarus-, le 35mm rend beaucoup mieux. C'est compréhensible.</p></li>\n",
      "</ol>\n",
      "\n",
      "<p>Pour conclure, une pernicieuse ambiguïté me dérange dans Interstellar. Tous les éléments du films sont là pour porter ses messages, jusqu'au nom de la fille, «&nbsp;Murphy&nbsp;», en relation à la loi de Murphy qui sert de structure à l'histoire. Du coup, étrangement, j'ai le sentiment que le film s'enferme dans une boîte. J'ai souvent ce sentiment avec les films, qu'ils n'embrassent pas toute la grandeur de leur sujet, mais sur un film abordant des matières aussi vastes que l'humanité, la conquête spatiale, la science et l'inconnu, avec l'amour pour couronner le tout... Ça me dérange.</p>\n",
      "\n",
      "<p>C'est pourquoi j'ai l'impression que ce film se fout de nous. J'ai conscience qu'il contient pas mal de messages intéressant, et qu'il peut constituer un bon divertissement pour d'autres que moi, mais l'intention de réalisme scientifique est clairement malmenée, ce qui rend l’œuvre incohérente. \n",
      "On nous sert des théories scientifiques et des idées SF déjà exploitées, transformés en bouillie prémachée. </p>\n",
      "\n",
      "<p>Que le film soit un concentré de messages imagés ne me dérangerait pas, mais encore une fois l’aspect faussement scientifique va à l'encontre de ça. Quelle direction a voulu prendre Nolan, je l'ignore&nbsp;; ce qui est sûr c'est qu'il n'a pas su m'y amener.  </p>\n",
      "\n",
      "<p>Honnêtement, je préfère ne pas comprendre un film intelligent, plutôt que de comprendre un film qui veut me faire sentir intelligent.  </p>\n",
      "\n",
      "<p>Certaines choses m'ont plues toutefois, notamment l'amalgame entre ce qui se passe dans l'espace et sur terre, l'exploration du sujet humain (considérer l'individu ou l'espèce) relativement aboutie (ben ouais, tout est relatif non?), les robots (même si les vannes sont un peu lourdes, je préférais le robot de Moon) et... Euh... Non c'est tout en fait. Vraiment pas assez à mes yeux, pour sauver ces interminables 2h50.\n",
      "Le temps est relatif, la preuve&nbsp;: certains ne l'ont pas vu passer, tandis que j'ai cru ne jamais sortir de la salle.</p>\n",
      "\n",
      "<p>Voilà. J'espère que c'est resté relativement intéressant au delà de ma relativement éhontée subjectivité. J'espère aussi que vous ne m'en voulez pas relativement trop.</p>\n",
      "\n",
      "<p>Bien à vous, relativement.</p>\n",
      "\n",
      "<p>P.S&nbsp;\n",
      "Pour compenser avec un avis positif, je vous propose la critique constructive et non dépourvue d'humour de\n",
      "-Icarus-:\n",
      "<a href=\"http://www.senscritique.com/film/Interstellar/critique/36926000\">http://www.senscritique.com/film/Interstellar/critique/36926000</a></p>\n"
     ]
    }
   ],
   "source": [
    "texte_html= df[\"review_title\"][1] + \" . \" + df[\"review_content\"][1]\n",
    "print(texte_html)"
   ]
  },
  {
   "cell_type": "code",
   "execution_count": 6,
   "id": "cf755e73",
   "metadata": {},
   "outputs": [
    {
     "name": "stdout",
     "output_type": "stream",
     "text": [
      "10 « bonnes » raisons relatives de ne pas aimer Interstellar. . Chers lecteurs, chères lectrices,\n",
      "Avant d'entamer cette liste aussi disgracieuse que désobligeante, je tiens à préciser que je n'ai rien contre Nolan, au contraire. \n",
      "Avant de m'envoyer des menaces de mort, kidnapper un membre de ma famille ou pire encore, merci de garder votre calme et de vous contenter de cliquer sur NON à la question finale et fatidique \"Et vous, avez-vous apprécié la critique ?\" Ça vous fera du bien, votre honneur sera ainsi sauvé, et il y a de fortes chances que cela me pousse au suicide. Donc tout le monde y trouve son compte. \n",
      "Oui parce que ce film m'a donné envie de sauter d'un pont.\n",
      "Sur ce, bonne lecture!\n",
      "\n",
      "Je vais sûrement perdre quelques abonnés à cause de cette critique.\n",
      "Nolan a très clairement exprimé qu'il voulait rendre son film réaliste. Dans ce but, il a collaboré avec des scientifiques. C'est très bien, et ça part sûrement d'une bonne intention, mais moi, petit spectateur, je dis non. Il ne suffit pas de prendre une base scientifique pour que ce soit crédible.\n",
      "Quand je vois des scientifiques de la NASA parler entre eux comme des débiles, non seulement ça m'agace mais surtout ça me sort du film direct. \n",
      "Tout est fait pour que le public comprenne, alors ils se mettent à expliquer, dans tous les détails, tout le speech scientifique nécessaire à la compréhension de l'histoire. Du coup on a droit aux plus gros cerveaux du monde en train de batifoler en mode Science et Vie Junior. ZÉRO CRÉDIBILITÉ. \n",
      "\n",
      "SPOILER \n",
      "\n",
      "Dans toutes les histoires SF traitant du voyage dans le temps, les même paradoxes reviennent toujours. Interstellar ne fait pas exception, et bien sûr ne mentionne même pas lesdites paradoxes. \n",
      "Alors oui, d'accord : le temps c'est relatif, tout ça, on ne sait pas ce qu'il y a dans un trou noir, blablabla. Mais j'ai le droit d'être de mauvais foi. De plus, la paradoxe du déclenchement initial persiste !\n",
      "Le plan B consiste à relancer l'humanité avec les ovules fécondées qu'ils emportent. OK, pourquoi pas. Mais le film n'explique pas QUI est censé PORTER les ovules. Parce que bon, Anne Hathaway est bien gentille, mais étant la seule femme de l'expédition, est-elle sensée porter assez d'ovules pour peupler la nouvelle planète? Je n'crois pas, non...\n",
      "Quand le type du fond (dont on avait rien à cirer) se fait happer par la vague, ça donne la sensation de mort imminente, de danger. Alors pourquoi, quand ils quittent la planète, y a t-il ce plan de son cadavre flottant ? Ça casse tout l'aspect dramatique de la situation. On dirait que c'est pour nous montrer qu'il est BIEN mort, au cas où on était pas sûrs, tu vois. \n",
      "Ce détail qui n'a sûrement pas choqué grand monde représente pour moi tout ce qui ne va pas dans ce film : Nolan m'a fait boire la tasse. \n",
      "Dédicace à Denver_le_ninja.\n",
      "Le Happy End hollywoodien m'a agacé, d'autant plus que c'est un faux Happy End : La terre est foutue, on ne sait même pas si la planète qu'ils vont rejoindre est habitable et durable, mais tout le monde il est content. Non seulement ça place l'humain sur un piédestal, mais c'est carrément foireux.\n",
      "\n",
      "6 bis. Et dans ce fameux vaisseau de survie précaire de l'espèce humaine, on peut voir des champs cultivés éclatants de vitalité. Pourtant sur terre, il y avait le Mildiou, et le Maïs et ses collègues étaient gravement malades. Pourquoi n'ont-ils plus ces problèmes une fois les champs installés dans le vaisseau? C'est pourtant la même terre et les mêmes plantes, non? Pas très net.\n",
      "FIN SPOILER\n",
      "\n",
      "Nolan a voulu briser l’intellectualisation froide qui imprègne souvent les films de SF. L'approche humaine qu'il a donné à son film est honorable et lui vaut bien des éloges ; mais à titre personnel ça ne passe pas. Les disputes familiales sur terre m'ont parues interminables. Peut-être qu' Interstellar ne m'a pas donné ce à quoi je m'attendais. Je m'étais préparé à une épopée spatiale, j'ai eu droit à une histoire de famille. Ça aurait pu me surprendre en bien... Si je n'avais pas trouvé ça aussi grossièrement amené.\n",
      "\n",
      "À mon sens, le fait que le film soit construit pour imager l'humain nuit à son aspect scientifique/SF. \n",
      "\n",
      "Incohérence: le vaisseau utilise des fusées pour quitter la terre, mais n'en a plus besoin pour quitter les autres planètes, qui en plus n'ont pas la même gravité. Si ils ont cette technologie, pas besoin de fusées depuis le début. \n",
      "D’ordinaire, je n'accorderai pas d'importance à de tels détails, mais pour un film qui prétend au réalisme, ça ne passe pas.\n",
      "\n",
      "Réponse en commentaire de GagReathle:\n",
      "Pour \"l'incohérence\" de la fusée, ce n'en est pas une, et c'est simple en fait. \n",
      "Il est dit dans le film que tout le matériel spatial a été détruit, réutilisé, ou en tout cas ne fonctionne pas. Les trucs spatiaux... sont dans l'espace, en témoigne le vaisseau-mère dans lequel se trouve les vaisseaux spatiaux utilisés plus tard dans le film !\n",
      "Michael Caine explique qu'ils ont du reconstruire une fusée car il n'y en avait plus. La fusée sert à rejoindre le vaisseau mère, et ainsi l'ancienne technologie spatiale humain.\n",
      "Autrement dit, je ferais mieux de réfléchir un peu plus avant de déceler de fausses incohérences pour faire mon malin.\n",
      "\n",
      "La musique de Hans Zimmer est une excellente BO, qui selon moi colle bien au film, comme c'est toujours le cas avec le duo Nolan/Zimmer. Mais je ne comprend pas ce dosage écrasant: elle repasse en boucle, dans le but j'imagine de donner de la puissance aux scènes; sauf que ça fonctionne à l'envers pour moi. C'est l'overdose, ça m'assomme. Surtout venant d'un film de cet acabit, qui -et c'est un avis très personnel- devrait tirer parti du silence spatial pour créer l’angoisse, plutôt que de rabâcher la BO pour matraquer le spectateur de « sensation épique ». \n",
      "Le parti pris de l'esthétique SF Old School façon Kubrick, j'adhère, mais je n'ai pas trouvé ça toujours convaincant, notamment pour l'aspect carton-pâte des vaisseaux. C'est beau, je l'admets, mais parfois un peu bancal à mon goût. J'avoue quand même que ça fait du bien à l'époque du tout CGI ; et précise que je l'ai vu en numérique alors que, selon -Icarus-, le 35mm rend beaucoup mieux. C'est compréhensible.\n",
      "\n",
      "Pour conclure, une pernicieuse ambiguïté me dérange dans Interstellar. Tous les éléments du films sont là pour porter ses messages, jusqu'au nom de la fille, « Murphy », en relation à la loi de Murphy qui sert de structure à l'histoire. Du coup, étrangement, j'ai le sentiment que le film s'enferme dans une boîte. J'ai souvent ce sentiment avec les films, qu'ils n'embrassent pas toute la grandeur de leur sujet, mais sur un film abordant des matières aussi vastes que l'humanité, la conquête spatiale, la science et l'inconnu, avec l'amour pour couronner le tout... Ça me dérange.\n",
      "C'est pourquoi j'ai l'impression que ce film se fout de nous. J'ai conscience qu'il contient pas mal de messages intéressant, et qu'il peut constituer un bon divertissement pour d'autres que moi, mais l'intention de réalisme scientifique est clairement malmenée, ce qui rend l’œuvre incohérente. \n",
      "On nous sert des théories scientifiques et des idées SF déjà exploitées, transformés en bouillie prémachée. \n",
      "Que le film soit un concentré de messages imagés ne me dérangerait pas, mais encore une fois l’aspect faussement scientifique va à l'encontre de ça. Quelle direction a voulu prendre Nolan, je l'ignore ; ce qui est sûr c'est qu'il n'a pas su m'y amener.  \n",
      "Honnêtement, je préfère ne pas comprendre un film intelligent, plutôt que de comprendre un film qui veut me faire sentir intelligent.  \n",
      "Certaines choses m'ont plues toutefois, notamment l'amalgame entre ce qui se passe dans l'espace et sur terre, l'exploration du sujet humain (considérer l'individu ou l'espèce) relativement aboutie (ben ouais, tout est relatif non?), les robots (même si les vannes sont un peu lourdes, je préférais le robot de Moon) et... Euh... Non c'est tout en fait. Vraiment pas assez à mes yeux, pour sauver ces interminables 2h50.\n",
      "Le temps est relatif, la preuve : certains ne l'ont pas vu passer, tandis que j'ai cru ne jamais sortir de la salle.\n",
      "Voilà. J'espère que c'est resté relativement intéressant au delà de ma relativement éhontée subjectivité. J'espère aussi que vous ne m'en voulez pas relativement trop.\n",
      "Bien à vous, relativement.\n",
      "P.S \n",
      "Pour compenser avec un avis positif, je vous propose la critique constructive et non dépourvue d'humour de\n",
      "-Icarus-:\n",
      "http://www.senscritique.com/film/Interstellar/critique/36926000\n"
     ]
    }
   ],
   "source": [
    "soup = BeautifulSoup(texte_html, \"html.parser\")\n",
    "texte_sans_html = soup.get_text()\n",
    "print(texte_sans_html)"
   ]
  },
  {
   "cell_type": "code",
   "execution_count": 7,
   "id": "2b3b9f29",
   "metadata": {},
   "outputs": [],
   "source": [
    "full_review = df[\"review_title\"].fillna(\"\") + \" . \" + df[\"review_content\"].fillna(\"\")\n",
    "\n",
    "def strip_html(x):\n",
    "    if not isinstance(x, str):\n",
    "        return \"\"\n",
    "    return BeautifulSoup(x, \"html.parser\").get_text()\n",
    "\n",
    "df[\"full_review\"]= full_review.map(strip_html)"
   ]
  },
  {
   "cell_type": "code",
   "execution_count": 64,
   "id": "44423284",
   "metadata": {},
   "outputs": [
    {
     "data": {
      "text/plain": [
       "Index(['id', 'URL', 'rating', 'review_date_creation',\n",
       "       'review_date_last_update', 'review_hits', 'review_content',\n",
       "       'review_title', 'gen_review_like_count', 'username', 'user_id',\n",
       "       'full_review'],\n",
       "      dtype='object')"
      ]
     },
     "execution_count": 64,
     "metadata": {},
     "output_type": "execute_result"
    }
   ],
   "source": [
    "df.columns"
   ]
  },
  {
   "cell_type": "code",
   "execution_count": 8,
   "id": "af3b2554",
   "metadata": {},
   "outputs": [
    {
     "name": "stderr",
     "output_type": "stream",
     "text": [
      "Token indices sequence length is longer than the specified maximum sequence length for this model (1072 > 512). Running this sequence through the model will result in indexing errors\n"
     ]
    }
   ],
   "source": [
    "tokenizer = AutoTokenizer.from_pretrained(\"sentence-transformers/paraphrase-multilingual-MiniLM-L12-v2\")\n",
    "def count_tokens(text):\n",
    "    return len(tokenizer.tokenize(text))\n",
    "\n",
    "df[\"nb_tokens\"] = df[\"full_review\"].map(count_tokens)"
   ]
  },
  {
   "cell_type": "markdown",
   "id": "ca5caa32",
   "metadata": {},
   "source": [
    "Certaines critiques dépassent la limite de 512 tokens du modèle, ce qui provoque une erreur.\n",
    "J’applique donc un chunking pour découper les longues critiques.\n"
   ]
  },
  {
   "cell_type": "code",
   "execution_count": 9,
   "id": "f7e82152",
   "metadata": {},
   "outputs": [],
   "source": [
    "MODEL = \"sentence-transformers/paraphrase-multilingual-MiniLM-L12-v2\"\n",
    "tokenizer= AutoTokenizer.from_pretrained(MODEL)"
   ]
  },
  {
   "cell_type": "code",
   "execution_count": 10,
   "id": "41802382",
   "metadata": {},
   "outputs": [],
   "source": [
    "def chunk_by_tokens(text, tokenizer, max_len=512, stride=400):\n",
    "    enc = tokenizer(\n",
    "        text,\n",
    "        add_special_tokens=False,\n",
    "        return_attention_mask=False\n",
    "    )\n",
    "    ids = enc[\"input_ids\"]\n",
    "\n",
    "    n = len(ids)\n",
    "    start = 0\n",
    "    while start < n:\n",
    "        end = start + max_len\n",
    "        chunk_ids = ids[start:end]\n",
    "        chunk_text = tokenizer.decode(chunk_ids, skip_special_tokens=True).strip()\n",
    "        if chunk_text:\n",
    "            yield chunk_text\n",
    "        start += stride\n"
   ]
  },
  {
   "cell_type": "code",
   "execution_count": 18,
   "id": "42c2e72e",
   "metadata": {},
   "outputs": [],
   "source": [
    "def build_vector_database_for_movie(csv_path, movie_name):\n",
    "    df = pd.read_csv(csv_path)\n",
    "    full_review = df[\"review_title\"].fillna(\"\") + \" . \" + df[\"review_content\"].fillna(\"\")\n",
    "    df[\"full_review\"] = full_review.map(strip_html)\n",
    "    df[\"movie\"] = movie_name\n",
    "\n",
    "    tokenizer = AutoTokenizer.from_pretrained(MODEL)\n",
    "    model = SentenceTransformer(MODEL)\n",
    "    model.max_seq_length = 512\n",
    "\n",
    "    all_chunks = []\n",
    "    meta_rows = []\n",
    "\n",
    "    for _, row in df.iterrows():\n",
    "        text = row[\"full_review\"]\n",
    "        id = str(row[\"id\"])\n",
    "        toks = tokenizer.tokenize(text)\n",
    "\n",
    "        if len(toks) < 512:\n",
    "            all_chunks.append(text)\n",
    "            meta_rows.append({\n",
    "                \"chunk_id\": f\"{id}_0\",\n",
    "                \"id\": id,\n",
    "                \"movie\": movie_name,\n",
    "                \"username\": row[\"username\"],\n",
    "                \"full_review\": row[\"full_review\"]\n",
    "            })\n",
    "        else:\n",
    "            for i, chunk in enumerate(chunk_by_tokens(text, tokenizer, max_len=512)):\n",
    "                all_chunks.append(chunk)\n",
    "                meta_rows.append({\n",
    "                    \"chunk_id\": f\"{id}_chunk{i}\",\n",
    "                    \"id\": id,\n",
    "                    \"movie\": movie_name,\n",
    "                    \"username\": row[\"username\"],\n",
    "                    \"full_review\": row[\"full_review\"]\n",
    "                })\n",
    "\n",
    "    emb = model.encode(all_chunks, normalize_embeddings=True, show_progress_bar=True)\n",
    "    \n",
    "    index = faiss.IndexFlatIP(emb.shape[1])\n",
    "    index.add(emb.astype(\"float32\"))\n",
    "\n",
    "    faiss.write_index(index, f\"faiss_{movie_name}.index\")\n",
    "    np.save(f\"embeddings_{movie_name}.npy\", emb)\n",
    "    pd.DataFrame(meta_rows).to_csv(f\"meta_chunks_{movie_name}.csv\", index=False, encoding=\"utf-8\")\n"
   ]
  },
  {
   "cell_type": "code",
   "execution_count": null,
   "id": "19d7b0a3",
   "metadata": {},
   "outputs": [],
   "source": [
    "def build_vector_database():\n",
    "    df = pd.read_csv('interstellar_critique.csv')\n",
    "    full_review = df[\"review_title\"].fillna(\"\") + \" . \" + df[\"review_content\"].fillna(\"\")\n",
    "    df[\"full_review\"]= full_review.map(strip_html)\n",
    "    tok = AutoTokenizer.from_pretrained(MODEL)\n",
    "    model = SentenceTransformer(MODEL)\n",
    "    model.max_seq_length = 512\n",
    "\n",
    "    all_chunks = []\n",
    "    meta_rows = []\n",
    "\n",
    "    for _, row in df.iterrows():\n",
    "        text = row[\"full_review\"]\n",
    "        id = str(row[\"id\"])\n",
    "        toks = tokenizer.tokenize(text)\n",
    "        if len(toks)< 512:\n",
    "            all_chunks.append(text)\n",
    "            meta_rows.append({\n",
    "                \"chunk_id\": f\"{id}_0\",\n",
    "                \"id\": id,\n",
    "                \"username\": row[\"username\"],\n",
    "                \"full_review\": row[\"full_review\"]\n",
    "            })\n",
    "\n",
    "        else:\n",
    "                for i, chunk in enumerate(chunk_by_tokens(text,tokenizer,max_len=512)):\n",
    "                        all_chunks.append(chunk)\n",
    "                        meta_rows.append({\n",
    "                        \"chunk_id\": f\"{id}_chunk{i}\",\n",
    "                        \"id\": id,\n",
    "                        \"username\": row[\"username\"],\n",
    "                        \"full_review\": row[\"full_review\"]\n",
    "                })\n",
    "    emb = model.encode(all_chunks, normalize_embeddings=True, show_progress_bar=True)\n",
    "    index=faiss.IndexFlatIP(emb.shape[1])\n",
    "    index.add(emb.astype(\"float32\"))\n",
    "    np.save(\"embeddings.npy\",emb)\n",
    "    faiss.write_index(index, \"faiss.index\")\n",
    "    pd.DataFrame(meta_rows).to_csv(\"meta_chunks.csv\", index=False, encoding=\"utf-8\")"
   ]
  },
  {
   "cell_type": "code",
   "execution_count": 111,
   "id": "2e7c4d09",
   "metadata": {},
   "outputs": [
    {
     "name": "stderr",
     "output_type": "stream",
     "text": [
      "Batches: 100%|██████████| 74/74 [02:50<00:00,  2.31s/it]\n"
     ]
    }
   ],
   "source": [
    "if __name__ == \"__main__\":\n",
    "    build_vector_database()"
   ]
  },
  {
   "cell_type": "code",
   "execution_count": 16,
   "id": "a6e1accc",
   "metadata": {},
   "outputs": [
    {
     "data": {
      "text/plain": [
       "0    Fight Club sort à la fin 1999 sur les écrans. ...\n",
       "Name: review_content, dtype: object"
      ]
     },
     "execution_count": 16,
     "metadata": {},
     "output_type": "execute_result"
    }
   ],
   "source": [
    "df_fightclub= pd.read_csv(\"fightclub_critiques.csv\")\n",
    "df_fightclub.head(1)[\"review_content\"]"
   ]
  },
  {
   "cell_type": "code",
   "execution_count": 19,
   "id": "b3906985",
   "metadata": {},
   "outputs": [
    {
     "name": "stderr",
     "output_type": "stream",
     "text": [
      "Token indices sequence length is longer than the specified maximum sequence length for this model (1072 > 512). Running this sequence through the model will result in indexing errors\n",
      "Batches: 100%|██████████| 74/74 [02:36<00:00,  2.11s/it]\n",
      "Token indices sequence length is longer than the specified maximum sequence length for this model (4100 > 512). Running this sequence through the model will result in indexing errors\n",
      "Batches: 100%|██████████| 44/44 [00:57<00:00,  1.31s/it]\n"
     ]
    }
   ],
   "source": [
    "if __name__ == \"__main__\":\n",
    "    build_vector_database_for_movie(\"interstellar_critique.csv\", \"Interstellar\")\n",
    "    build_vector_database_for_movie(\"fightclub_critiques.csv\", \"Fight Club\")\n",
    "    "
   ]
  },
  {
   "cell_type": "code",
   "execution_count": 103,
   "id": "a13f01d6",
   "metadata": {},
   "outputs": [],
   "source": [
    "chunks_df= pd.read_csv('meta_chunks.csv')\n",
    "index = faiss.read_index(\"faiss.index\")\n",
    "model = SentenceTransformer(MODEL)"
   ]
  },
  {
   "cell_type": "code",
   "execution_count": 104,
   "id": "5c269d45",
   "metadata": {},
   "outputs": [
    {
     "data": {
      "text/html": [
       "<div>\n",
       "<style scoped>\n",
       "    .dataframe tbody tr th:only-of-type {\n",
       "        vertical-align: middle;\n",
       "    }\n",
       "\n",
       "    .dataframe tbody tr th {\n",
       "        vertical-align: top;\n",
       "    }\n",
       "\n",
       "    .dataframe thead th {\n",
       "        text-align: right;\n",
       "    }\n",
       "</style>\n",
       "<table border=\"1\" class=\"dataframe\">\n",
       "  <thead>\n",
       "    <tr style=\"text-align: right;\">\n",
       "      <th></th>\n",
       "      <th>chunk_id</th>\n",
       "      <th>id</th>\n",
       "      <th>username</th>\n",
       "      <th>full_review</th>\n",
       "    </tr>\n",
       "  </thead>\n",
       "  <tbody>\n",
       "    <tr>\n",
       "      <th>0</th>\n",
       "      <td>25246858_chunk0</td>\n",
       "      <td>25246858</td>\n",
       "      <td>Kobayashhi</td>\n",
       "      <td>All you need is love, love, love, love... . Aï...</td>\n",
       "    </tr>\n",
       "    <tr>\n",
       "      <th>1</th>\n",
       "      <td>25246858_chunk1</td>\n",
       "      <td>25246858</td>\n",
       "      <td>Kobayashhi</td>\n",
       "      <td>All you need is love, love, love, love... . Aï...</td>\n",
       "    </tr>\n",
       "    <tr>\n",
       "      <th>2</th>\n",
       "      <td>25246858_chunk2</td>\n",
       "      <td>25246858</td>\n",
       "      <td>Kobayashhi</td>\n",
       "      <td>All you need is love, love, love, love... . Aï...</td>\n",
       "    </tr>\n",
       "  </tbody>\n",
       "</table>\n",
       "</div>"
      ],
      "text/plain": [
       "          chunk_id        id    username  \\\n",
       "0  25246858_chunk0  25246858  Kobayashhi   \n",
       "1  25246858_chunk1  25246858  Kobayashhi   \n",
       "2  25246858_chunk2  25246858  Kobayashhi   \n",
       "\n",
       "                                         full_review  \n",
       "0  All you need is love, love, love, love... . Aï...  \n",
       "1  All you need is love, love, love, love... . Aï...  \n",
       "2  All you need is love, love, love, love... . Aï...  "
      ]
     },
     "execution_count": 104,
     "metadata": {},
     "output_type": "execute_result"
    }
   ],
   "source": [
    "chunks_df.columns\n",
    "chunks_df.head(3)"
   ]
  },
  {
   "cell_type": "code",
   "execution_count": 72,
   "id": "3d1b3b7f",
   "metadata": {},
   "outputs": [],
   "source": [
    "def search_similarity(query,k=3):\n",
    "    q = model.encode([query], normalize_embeddings=True)\n",
    "    D,I =index.search(q.astype(\"float32\"),k)\n",
    "    resultats = []\n",
    "    seen = set()\n",
    "\n",
    "    for score , idx in zip(D[0],I[0]):\n",
    "        chunk_meta= chunks_df.iloc[idx]\n",
    "        orig_id = chunk_meta[\"id\"]\n",
    "        if orig_id not in seen: \n",
    "            resultats.append({\n",
    "                \"orig_id\": orig_id,\n",
    "                \"full_review\": chunk_meta[\"full_review\"],\n",
    "                \"username\": chunk_meta[\"username\"],\n",
    "                \"score\": float(score)\n",
    "            })\n",
    "            seen.add(orig_id)\n",
    "\n",
    "        if len(resultats) >= k:\n",
    "            break\n",
    "    return pd.DataFrame(resultats)\n",
    "        "
   ]
  },
  {
   "cell_type": "code",
   "execution_count": 73,
   "id": "981fc735",
   "metadata": {},
   "outputs": [
    {
     "name": "stdout",
     "output_type": "stream",
     "text": [
      "All you need is love, love, love, love... . Aïe Aïe Aïe, nous y voilà, Interstellar, le film dont on ne doit pas prononcer le nom, celui qui déchaîne les passions, film de la décennie pour certains, arnaque pour d'autres. Déjà moqué pour ces symboles et idées véhiculées, décrit comme Melo larmoyant, ou encore mascarade de Science Fiction. 2001 l'Odyssey de l'Espace doit figurer à chaque paragraphe, on doit bien sûr mentionner du Tarkovski, ou des récits avec une notoriété moins évidente comme Contact ou The Black Hole et enfin faire le lien avec Gravity évidemment.\n",
      "\n",
      "Plutôt que d'aller puiser dans des centaines de références et d'influence diverses et variées, je considère Interstellar comme le film le plus personnel de Nolan, celui dans lequel il finit par assumer un message martelé depuis toujours. Réalisateur régulièrement critiqué pour sa froideur, sa prétention ou son ambition mal placée, il est pourtant à mon sens un grand romantique méconnu. L'amour est un sentiment qui transpire chaque parcelle de ses films, Mémento réputé pour sa narration déstructurée et jouant avec la mémoire à court terme de son héros est avant tout l'histoire d'un homme à la recherche du meurtrier de sa femme, obsession découlant d'un amour perdu. Le prestige plus connu pour son utilisation quasi surnaturelle de la magie, parle avant tout d'une rivalité entre deux hommes submergés par des motivations équivalentes toujours générées par ce même sentiment universel, l'un ayant perdu sa femme, l'autre voulant protéger sa fille. Même chez Batman, c'est bien l'amour pour une femme qui sera le moteur de départ pour créer ce justicier noir ou au contraire permettre la naissance de l'un des Bad Guy les plus réputés du comics. Quant à Inception au milieu des différents degrés de rêves, des théories qui se sont abattues partout dans le monde, de cette foutue toupie, s'agit t-il d'autre chose que de la souffrance d'un Homme prêt à tout pour profiter de souvenirs entretenus avec sa femme quitte à perdre pied avec la réalité.\n",
      "\n",
      "Les rêves, la mémoire, les super héros, et maintenant le voyage spatial. Tout ceci n'est qu'un gigantesque décor servant de prétexte dans lequel les artifices en tous genres apporteront une atmosphère peut être trop guindée parfois, mais en tout cas présent avec un parti pris assumé et cette patte immédiatement identifiable.\n",
      "\n",
      "Et c'est avec cette forme toujours plus excentrique, plus prestigieuse, avec cette poudre aux yeux qu'un fond qui pourrait sentir le rose bonbon chez plus d'un fonctionne ici. On reprend un schéma qui fonctionne, une vraie gueule pour porter son récit, et c'est presque naturellement que le fraîchement Oscarisé McConaughey s'y colle avec brio. Jamais dans l'excès toujours dans le questionnement philosophique certes mais aux antipodes de son nihiliste chez True Détective, campe ici un humaniste bien plus crédible en ingénieur que Marky Mark chez Bay. Omniprésent sous la caméra de Nolan, c'est à travers son regard que l'on vivra les aventures les plus périlleuses, les plus épiques ou les plus émouvantes, le tout sous fond de thèmes bien plus inspirés chez Hans Zimmer que l'énorme copié collé que l'on doit supporter depuis des années. \n",
      "\n",
      "Avant d'être un pur film de science fiction comme on l'entend et comme on peut l'attendre, Interstellar est un film sur le sentiment le plus universel, celui qui sert de moteur, qui donne de l'importance à nos vies qui semblent si infimes au vu de l'étendu de l'univers. En découle une ode au voyage, à l'espoir, ou à la connaissance, certes teinté d'imperfections, de petites facilités scénaristiques par moment, d'enchaînements un peu flous mais aisément annihiler par une maîtrise et par une cohérence dans une filmographie qui m'ont offert exactement le spectacle que j'attendais. Une fable complexe en apparence élaborant tout un tas de théories scientifique, le temps, le voyage spatial, le sens de la vie uniquement là pour épauler son propos initial, la classe.\n",
      "\n",
      "Ps : 300 critiques déjà, ça en fait des conneries écrites dis donc, merci à tous pour vos commentaires réguliers et à bientôt enfin pas trop non plus j'espère pour les 1000 !\n"
     ]
    }
   ],
   "source": [
    "print( df[\"full_review\"][0])"
   ]
  },
  {
   "cell_type": "code",
   "execution_count": 56,
   "id": "774c23b6",
   "metadata": {},
   "outputs": [
    {
     "name": "stdout",
     "output_type": "stream",
     "text": [
      "     orig_id     score       username  \\\n",
      "0  110037233  0.772847         Andros   \n",
      "1   40813793  0.718422  MentheFraiche   \n",
      "2   40824515  0.717366       Pipotroi   \n",
      "\n",
      "                                         full_review  \n",
      "0  InterstellAr avec un grand A ;) . \" L'amour es...  \n",
      "1  Lyrique… . S’il avait été écrit, Interstellar ...  \n",
      "2  Interstellar, à la hauteur de ses ambitions ? ...  \n"
     ]
    }
   ],
   "source": [
    "if __name__ == \"__main__\":\n",
    "    example_query = \"\"\"All you need is love, love, love, love... . Aïe Aïe Aïe, nous y voilà, Interstellar, le film dont on ne doit pas prononcer le nom, celui qui déchaîne les passions, film de la décennie pour certains, arnaque pour d'autres. Déjà moqué pour ces symboles et idées véhiculées, décrit comme Melo larmoyant, ou encore mascarade de Science Fiction. 2001 l'Odyssey de l'Espace doit figurer à chaque paragraphe, on doit bien sûr mentionner du Tarkovski, ou des récits avec une notoriété moins évidente comme Contact ou The Black Hole et enfin faire le lien avec Gravity évidemment.\n",
    "\n",
    "Plutôt que d'aller puiser dans des centaines de références et d'influence diverses et variées, je considère Interstellar comme le film le plus personnel de Nolan, celui dans lequel il finit par assumer un message martelé depuis toujours. Réalisateur régulièrement critiqué pour sa froideur, sa prétention ou son ambition mal placée, il est pourtant à mon sens un grand romantique méconnu. L'amour est un sentiment qui transpire chaque parcelle de ses films, Mémento réputé pour sa narration déstructurée et jouant avec la mémoire à court terme de son héros est avant tout l'histoire d'un homme à la recherche du meurtrier de sa femme, obsession découlant d'un amour perdu. Le prestige plus connu pour son utilisation quasi surnaturelle de la magie, parle avant tout d'une rivalité entre deux hommes submergés par des motivations équivalentes toujours générées par ce même sentiment universel, l'un ayant perdu sa femme, l'autre voulant protéger sa fille. Même chez Batman, c'est bien l'amour pour une femme qui sera le moteur de départ pour créer ce justicier noir ou au contraire permettre la naissance de l'un des Bad Guy les plus réputés du comics. Quant à Inception au milieu des différents degrés de rêves, des théories qui se sont abattues partout dans le monde, de cette foutue toupie, s'agit t-il d'autre chose que de la souffrance d'un Homme prêt à tout pour profiter de souvenirs entretenus avec sa femme quitte à perdre pied avec la réalité.\n",
    "\n",
    "Les rêves, la mémoire, les super héros, et maintenant le voyage spatial. Tout ceci n'est qu'un gigantesque décor servant de prétexte dans lequel les artifices en tous genres apporteront une atmosphère peut être trop guindée parfois, mais en tout cas présent avec un parti pris assumé et cette patte immédiatement identifiable.\n",
    "\n",
    "Et c'est avec cette forme toujours plus excentrique, plus prestigieuse, avec cette poudre aux yeux qu'un fond qui pourrait sentir le rose bonbon chez plus d'un fonctionne ici. On reprend un schéma qui fonctionne, une vraie gueule pour porter son récit, et c'est presque naturellement que le fraîchement Oscarisé McConaughey s'y colle avec brio. Jamais dans l'excès toujours dans le questionnement philosophique certes mais aux antipodes de son nihiliste chez True Détective, campe ici un humaniste bien plus crédible en ingénieur que Marky Mark chez Bay. Omniprésent sous la caméra de Nolan, c'est à travers son regard que l'on vivra les aventures les plus périlleuses, les plus épiques ou les plus émouvantes, le tout sous fond de thèmes bien plus inspirés chez Hans Zimmer que l'énorme copié collé que l'on doit supporter depuis des années. \n",
    "\n",
    "Avant d'être un pur film de science fiction comme on l'entend et comme on peut l'attendre, Interstellar est un film sur le sentiment le plus universel, celui qui sert de moteur, qui donne de l'importance à nos vies qui semblent si infimes au vu de l'étendu de l'univers. En découle une ode au voyage, à l'espoir, ou à la connaissance, certes teinté d'imperfections, de petites facilités scénaristiques par moment, d'enchaînements un peu flous mais aisément annihiler par une maîtrise et par une cohérence dans une filmographie qui m'ont offert exactement le spectacle que j'attendais. Une fable complexe en apparence élaborant tout un tas de théories scientifique, le temps, le voyage spatial, le sens de la vie uniquement là pour épauler son propos initial, la classe.\n",
    "\n",
    "Ps : 300 critiques déjà, ça en fait des conneries écrites dis donc, merci à tous pour vos commentaires réguliers et à bientôt enfin pas trop non plus j'espère pour les 1000 !\"\"\"\n",
    "    res = search_similarity(example_query, k=3)\n",
    "    print(res[[\"orig_id\", \"score\", \"username\", \"full_review\"]])"
   ]
  },
  {
   "cell_type": "markdown",
   "id": "34fbc339",
   "metadata": {},
   "source": [
    "j’encode directement la critique complète et je cherche les 3 plus proches dans FAISS. \n",
    "Même si la critique existe déjà dans le CSV, le modèle renvoie une autre avec un score ≈ 0.77, car en fait la recherche se fait sur les chunks présents dans la base, pas sur les textes entiers. C'est pourquoi j'ai pensé à chunker la requete aussi."
   ]
  },
  {
   "cell_type": "code",
   "execution_count": 105,
   "id": "f1ca289a",
   "metadata": {},
   "outputs": [],
   "source": [
    "def embed_query(query_text, model, tokenizer):\n",
    "   \n",
    "    toks = tokenizer.tokenize(query_text)\n",
    "    if len(toks) < 512:\n",
    "        vec = model.encode([query_text], normalize_embeddings=True)\n",
    "        return vec.astype(\"float32\")\n",
    "\n",
    "    parts = list(chunk_by_tokens(query_text, tokenizer, max_len=512))\n",
    "    part_vecs = model.encode(parts, normalize_embeddings=True)\n",
    "    mean_vec = np.mean(part_vecs, axis=0, keepdims=True)\n",
    "    return mean_vec.astype(\"float32\")"
   ]
  },
  {
   "cell_type": "code",
   "execution_count": 79,
   "id": "3e260123",
   "metadata": {},
   "outputs": [],
   "source": [
    "def search_similarity_chunking(query_text, k, chunks_df, index, model, tokenizer):\n",
    "   \n",
    "    q_vec = embed_query(query_text, model, tokenizer)\n",
    "    D, I = index.search(q_vec, k)\n",
    "\n",
    "    resultats = []\n",
    "    seen = set()\n",
    "\n",
    "    for score, idx in zip(D[0], I[0]):\n",
    "        chunk_meta = chunks_df.iloc[idx]\n",
    "        orig_id = chunk_meta[\"id\"]\n",
    "\n",
    "        if orig_id not in seen:\n",
    "            resultats.append({\n",
    "                \"orig_id\": orig_id,\n",
    "                \"full_review\": chunk_meta[\"full_review\"],\n",
    "                \"username\": chunk_meta[\"username\"],\n",
    "                \"score\": float(score)\n",
    "            })\n",
    "            seen.add(orig_id)\n",
    "\n",
    "        if len(resultats) >= k:\n",
    "            break\n",
    "\n",
    "    return pd.DataFrame(resultats)\n"
   ]
  },
  {
   "cell_type": "code",
   "execution_count": 82,
   "id": "e117a5a9",
   "metadata": {},
   "outputs": [
    {
     "name": "stdout",
     "output_type": "stream",
     "text": [
      "    orig_id     score           username  \\\n",
      "0  41339127  0.555459        LaLuneMauve   \n",
      "1  45734343  0.548838            Benreal   \n",
      "2  42028110  0.540186  Djack-le-Flemmard   \n",
      "\n",
      "                                         full_review  \n",
      "0  Étourdissant . « Interstellar », film de 2014 ...  \n",
      "1  Un pillier est posé, une référence est créé ! ...  \n",
      "2  Un monde de poussière, où Swiffer règne en Maî...  \n"
     ]
    }
   ],
   "source": [
    "if __name__ == \"__main__\":\n",
    "    example_query = \"\"\"All you need is love, love, love, love... . Aïe Aïe Aïe, nous y voilà, Interstellar, le film dont on ne doit pas prononcer le nom, celui qui déchaîne les passions, film de la décennie pour certains, arnaque pour d'autres. Déjà moqué pour ces symboles et idées véhiculées, décrit comme Melo larmoyant, ou encore mascarade de Science Fiction. 2001 l'Odyssey de l'Espace doit figurer à chaque paragraphe, on doit bien sûr mentionner du Tarkovski, ou des récits avec une notoriété moins évidente comme Contact ou The Black Hole et enfin faire le lien avec Gravity évidemment.\n",
    "\n",
    "Plutôt que d'aller puiser dans des centaines de références et d'influence diverses et variées, je considère Interstellar comme le film le plus personnel de Nolan, celui dans lequel il finit par assumer un message martelé depuis toujours. Réalisateur régulièrement critiqué pour sa froideur, sa prétention ou son ambition mal placée, il est pourtant à mon sens un grand romantique méconnu. L'amour est un sentiment qui transpire chaque parcelle de ses films, Mémento réputé pour sa narration déstructurée et jouant avec la mémoire à court terme de son héros est avant tout l'histoire d'un homme à la recherche du meurtrier de sa femme, obsession découlant d'un amour perdu. Le prestige plus connu pour son utilisation quasi surnaturelle de la magie, parle avant tout d'une rivalité entre deux hommes submergés par des motivations équivalentes toujours générées par ce même sentiment universel, l'un ayant perdu sa femme, l'autre voulant protéger sa fille. Même chez Batman, c'est bien l'amour pour une femme qui sera le moteur de départ pour créer ce justicier noir ou au contraire permettre la naissance de l'un des Bad Guy les plus réputés du comics. Quant à Inception au milieu des différents degrés de rêves, des théories qui se sont abattues partout dans le monde, de cette foutue toupie, s'agit t-il d'autre chose que de la souffrance d'un Homme prêt à tout pour profiter de souvenirs entretenus avec sa femme quitte à perdre pied avec la réalité.\n",
    "\n",
    "Les rêves, la mémoire, les super héros, et maintenant le voyage spatial. Tout ceci n'est qu'un gigantesque décor servant de prétexte dans lequel les artifices en tous genres apporteront une atmosphère peut être trop guindée parfois, mais en tout cas présent avec un parti pris assumé et cette patte immédiatement identifiable.\n",
    "\n",
    "Et c'est avec cette forme toujours plus excentrique, plus prestigieuse, avec cette poudre aux yeux qu'un fond qui pourrait sentir le rose bonbon chez plus d'un fonctionne ici. On reprend un schéma qui fonctionne, une vraie gueule pour porter son récit, et c'est presque naturellement que le fraîchement Oscarisé McConaughey s'y colle avec brio. Jamais dans l'excès toujours dans le questionnement philosophique certes mais aux antipodes de son nihiliste chez True Détective, campe ici un humaniste bien plus crédible en ingénieur que Marky Mark chez Bay. Omniprésent sous la caméra de Nolan, c'est à travers son regard que l'on vivra les aventures les plus périlleuses, les plus épiques ou les plus émouvantes, le tout sous fond de thèmes bien plus inspirés chez Hans Zimmer que l'énorme copié collé que l'on doit supporter depuis des années. \n",
    "\n",
    "Avant d'être un pur film de science fiction comme on l'entend et comme on peut l'attendre, Interstellar est un film sur le sentiment le plus universel, celui qui sert de moteur, qui donne de l'importance à nos vies qui semblent si infimes au vu de l'étendu de l'univers. En découle une ode au voyage, à l'espoir, ou à la connaissance, certes teinté d'imperfections, de petites facilités scénaristiques par moment, d'enchaînements un peu flous mais aisément annihiler par une maîtrise et par une cohérence dans une filmographie qui m'ont offert exactement le spectacle que j'attendais. Une fable complexe en apparence élaborant tout un tas de théories scientifique, le temps, le voyage spatial, le sens de la vie uniquement là pour épauler son propos initial, la classe.\n",
    "\n",
    "Ps : 300 critiques déjà, ça en fait des conneries écrites dis donc, merci à tous pour vos commentaires réguliers et à bientôt enfin pas trop non plus j'espère pour les 1000 !\"\"\"\n",
    "    res = search_similarity_chunking(example_query, 3, chunks_df, index, model, tokenizer)\n",
    "    print(res[[\"orig_id\", \"score\", \"username\", \"full_review\"]])"
   ]
  },
  {
   "cell_type": "markdown",
   "id": "e7047ef3",
   "metadata": {},
   "source": [
    "pour éviter l’erreur sur les textes longs,j'ai découpé la requête en chunks de 512 tokens et j'ai fait la moyenne\n",
    "des vecteurs. Ça marche sans planter, mais la moyenne rend les résultats moins précis."
   ]
  },
  {
   "cell_type": "markdown",
   "id": "98adebad",
   "metadata": {},
   "source": [
    "Donc au lieu de moyenner, je cherche séparément pour chaque chunk, puis je regroupe les meilleurs résultats. Cette méthode \n",
    "gère les longs textes tout en retrouvant mieux les critiques similaires."
   ]
  },
  {
   "cell_type": "code",
   "execution_count": 106,
   "id": "73f2456a",
   "metadata": {},
   "outputs": [],
   "source": [
    "def search_similarity_3(query_text, k, chunks_df, index, model, tokenizer):\n",
    "    toks = tokenizer.tokenize(query_text)\n",
    "\n",
    "    if len(toks) <= 512:\n",
    "        q_vec = model.encode([query_text], normalize_embeddings=True).astype(\"float32\")\n",
    "        D, I = index.search(q_vec, k)\n",
    "\n",
    "        candidates = [(float(score), int(idx)) for score, idx in zip(D[0], I[0])]\n",
    "    else:\n",
    "        # chercher chunk par chunk\n",
    "        parts = list(chunk_by_tokens(query_text, tokenizer, max_len=512))\n",
    "        part_vecs = model.encode(parts, normalize_embeddings=True).astype(\"float32\")\n",
    "\n",
    "        # on agrège tous les résultats des chunks\n",
    "        candidates = []\n",
    "        for vec in part_vecs:\n",
    "            vec = vec.reshape(1, -1) \n",
    "            D, I = index.search(vec, k)\n",
    "            for score, idx in zip(D[0], I[0]):\n",
    "                candidates.append((float(score), int(idx)))\n",
    "\n",
    "        # Tri par score desc\n",
    "        candidates.sort(key=lambda x: x[0], reverse=True)\n",
    "\n",
    "    results = []\n",
    "    seen = set()\n",
    "    for score, idx in candidates:\n",
    "        chunk_meta = chunks_df.iloc[idx]\n",
    "        orig_id = chunk_meta[\"id\"]\n",
    "        if orig_id in seen:\n",
    "            continue\n",
    "\n",
    "        results.append({\n",
    "            \"orig_id\": orig_id,\n",
    "            \"full_review\": chunk_meta[\"full_review\"],\n",
    "            \"username\": chunk_meta[\"username\"],\n",
    "            \"score\": float(score)\n",
    "        })\n",
    "        seen.add(orig_id)\n",
    "\n",
    "        if len(results) >= k:\n",
    "            break\n",
    "\n",
    "    return pd.DataFrame(results)\n"
   ]
  },
  {
   "cell_type": "code",
   "execution_count": null,
   "id": "d664ad4b",
   "metadata": {},
   "outputs": [
    {
     "name": "stdout",
     "output_type": "stream",
     "text": [
      "     orig_id     score      username  \\\n",
      "0   25246858  1.000000    Kobayashhi   \n",
      "1  110037233  0.772847        Andros   \n",
      "2   41687122  0.740835  JanosValuska   \n",
      "\n",
      "                                         full_review  \n",
      "0  All you need is love, love, love, love... . Aï...  \n",
      "1  InterstellAr avec un grand A ;) . \" L'amour es...  \n",
      "2  Coming home. . J’ai trouvé ça immense. Je ne s...  \n"
     ]
    }
   ],
   "source": [
    "if __name__ == \"__main__\":\n",
    "    example_query = \"\"\"All you need is love, love, love, love... . Aïe Aïe Aïe, nous y voilà, Interstellar, le film dont on ne doit pas prononcer le nom, celui qui déchaîne les passions, film de la décennie pour certains, arnaque pour d'autres. Déjà moqué pour ces symboles et idées véhiculées, décrit comme Melo larmoyant, ou encore mascarade de Science Fiction. 2001 l'Odyssey de l'Espace doit figurer à chaque paragraphe, on doit bien sûr mentionner du Tarkovski, ou des récits avec une notoriété moins évidente comme Contact ou The Black Hole et enfin faire le lien avec Gravity évidemment.\n",
    "\n",
    "Plutôt que d'aller puiser dans des centaines de références et d'influence diverses et variées, je considère Interstellar comme le film le plus personnel de Nolan, celui dans lequel il finit par assumer un message martelé depuis toujours. Réalisateur régulièrement critiqué pour sa froideur, sa prétention ou son ambition mal placée, il est pourtant à mon sens un grand romantique méconnu. L'amour est un sentiment qui transpire chaque parcelle de ses films, Mémento réputé pour sa narration déstructurée et jouant avec la mémoire à court terme de son héros est avant tout l'histoire d'un homme à la recherche du meurtrier de sa femme, obsession découlant d'un amour perdu. Le prestige plus connu pour son utilisation quasi surnaturelle de la magie, parle avant tout d'une rivalité entre deux hommes submergés par des motivations équivalentes toujours générées par ce même sentiment universel, l'un ayant perdu sa femme, l'autre voulant protéger sa fille. Même chez Batman, c'est bien l'amour pour une femme qui sera le moteur de départ pour créer ce justicier noir ou au contraire permettre la naissance de l'un des Bad Guy les plus réputés du comics. Quant à Inception au milieu des différents degrés de rêves, des théories qui se sont abattues partout dans le monde, de cette foutue toupie, s'agit t-il d'autre chose que de la souffrance d'un Homme prêt à tout pour profiter de souvenirs entretenus avec sa femme quitte à perdre pied avec la réalité.\n",
    "\n",
    "Les rêves, la mémoire, les super héros, et maintenant le voyage spatial. Tout ceci n'est qu'un gigantesque décor servant de prétexte dans lequel les artifices en tous genres apporteront une atmosphère peut être trop guindée parfois, mais en tout cas présent avec un parti pris assumé et cette patte immédiatement identifiable.\n",
    "\n",
    "Et c'est avec cette forme toujours plus excentrique, plus prestigieuse, avec cette poudre aux yeux qu'un fond qui pourrait sentir le rose bonbon chez plus d'un fonctionne ici. On reprend un schéma qui fonctionne, une vraie gueule pour porter son récit, et c'est presque naturellement que le fraîchement Oscarisé McConaughey s'y colle avec brio. Jamais dans l'excès toujours dans le questionnement philosophique certes mais aux antipodes de son nihiliste chez True Détective, campe ici un humaniste bien plus crédible en ingénieur que Marky Mark chez Bay. Omniprésent sous la caméra de Nolan, c'est à travers son regard que l'on vivra les aventures les plus périlleuses, les plus épiques ou les plus émouvantes, le tout sous fond de thèmes bien plus inspirés chez Hans Zimmer que l'énorme copié collé que l'on doit supporter depuis des années. \n",
    "\n",
    "Avant d'être un pur film de science fiction comme on l'entend et comme on peut l'attendre, Interstellar est un film sur le sentiment le plus universel, celui qui sert de moteur, qui donne de l'importance à nos vies qui semblent si infimes au vu de l'étendu de l'univers. En découle une ode au voyage, à l'espoir, ou à la connaissance, certes teinté d'imperfections, de petites facilités scénaristiques par moment, d'enchaînements un peu flous mais aisément annihiler par une maîtrise et par une cohérence dans une filmographie qui m'ont offert exactement le spectacle que j'attendais. Une fable complexe en apparence élaborant tout un tas de théories scientifique, le temps, le voyage spatial, le sens de la vie uniquement là pour épauler son propos initial, la classe.\n",
    "\n",
    "Ps : 300 critiques déjà, ça en fait des conneries écrites dis donc, merci à tous pour vos commentaires réguliers et à bientôt enfin pas trop non plus j'espère pour les 1000 !\"\"\"\n",
    "    res = search_similarity_3(example_query, 3, chunks_df, index, model, tokenizer)\n",
    "    print(res[[\"orig_id\", \"score\", \"username\", \"full_review\"]])"
   ]
  },
  {
   "cell_type": "markdown",
   "id": "1d34ddc6",
   "metadata": {},
   "source": [
    "Aide IA\n",
    "\n",
    "J’ai utilisé ChatGPT pour la fonction de chunking , pour reformuler certains commentaires explicatifs et structurer le README."
   ]
  }
 ],
 "metadata": {
  "kernelspec": {
   "display_name": ".venv",
   "language": "python",
   "name": "python3"
  },
  "language_info": {
   "codemirror_mode": {
    "name": "ipython",
    "version": 3
   },
   "file_extension": ".py",
   "mimetype": "text/x-python",
   "name": "python",
   "nbconvert_exporter": "python",
   "pygments_lexer": "ipython3",
   "version": "3.13.1"
  }
 },
 "nbformat": 4,
 "nbformat_minor": 5
}
